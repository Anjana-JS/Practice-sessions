{
  "nbformat": 4,
  "nbformat_minor": 0,
  "metadata": {
    "colab": {
      "provenance": [],
      "authorship_tag": "ABX9TyMJ9qWKlmwSMInsnf2/vpZW",
      "include_colab_link": true
    },
    "kernelspec": {
      "name": "python3",
      "display_name": "Python 3"
    },
    "language_info": {
      "name": "python"
    }
  },
  "cells": [
    {
      "cell_type": "markdown",
      "metadata": {
        "id": "view-in-github",
        "colab_type": "text"
      },
      "source": [
        "<a href=\"https://colab.research.google.com/github/Anjana-JS/Practice-sessions/blob/main/Practice.ipynb\" target=\"_parent\"><img src=\"https://colab.research.google.com/assets/colab-badge.svg\" alt=\"Open In Colab\"/></a>"
      ]
    },
    {
      "cell_type": "code",
      "execution_count": 19,
      "metadata": {
        "colab": {
          "base_uri": "https://localhost:8080/"
        },
        "id": "79RbCsKMvHoR",
        "outputId": "58ff9202-4d84-41a1-8656-7e63cd147adc"
      },
      "outputs": [
        {
          "output_type": "stream",
          "name": "stdout",
          "text": [
            "Earth to you my sweet little cat\n",
            "Earth to you my sweet little dog\n",
            "Earth to you my sweet little cow\n"
          ]
        }
      ],
      "source": [
        "a = [\"cat\",\"dog\",\"cow\"]\n",
        "for i in a:\n",
        "  print (\"Earth to you my sweet little \"+i)"
      ]
    },
    {
      "cell_type": "code",
      "source": [
        "while i == \"fox\":\n",
        "  print (i in a)\n",
        "  break\n",
        "else:\n",
        "  a.append(\"fox\")\n",
        "  print(a)\n",
        "\n"
      ],
      "metadata": {
        "colab": {
          "base_uri": "https://localhost:8080/"
        },
        "id": "Lemw1gwJvajL",
        "outputId": "2d2640ca-94de-4f15-bc09-29f0577f1888"
      },
      "execution_count": 32,
      "outputs": [
        {
          "output_type": "stream",
          "name": "stdout",
          "text": [
            "['cat', 'dog', 'cow', 'fox']\n"
          ]
        }
      ]
    },
    {
      "cell_type": "code",
      "source": [
        "b = 1\n",
        "while b<=15:\n",
        "  print (b)\n",
        "  b=b+3"
      ],
      "metadata": {
        "colab": {
          "base_uri": "https://localhost:8080/"
        },
        "id": "d4iI7fguvaoU",
        "outputId": "8206acd2-db6d-4d4d-9a87-a783515932ea"
      },
      "execution_count": null,
      "outputs": [
        {
          "output_type": "stream",
          "name": "stdout",
          "text": [
            "1\n",
            "4\n",
            "7\n",
            "10\n",
            "13\n"
          ]
        }
      ]
    },
    {
      "cell_type": "code",
      "source": [
        "b = 1\n",
        "while b<=15:\n",
        "  print (b*2)\n",
        "  b = b+1\n",
        "\n"
      ],
      "metadata": {
        "colab": {
          "base_uri": "https://localhost:8080/"
        },
        "id": "gd_8HMiSvawY",
        "outputId": "1fddd484-8570-4b46-c341-27e7c25e659d"
      },
      "execution_count": null,
      "outputs": [
        {
          "output_type": "stream",
          "name": "stdout",
          "text": [
            "2\n",
            "4\n",
            "6\n",
            "8\n",
            "10\n",
            "12\n",
            "14\n",
            "16\n",
            "18\n",
            "20\n",
            "22\n",
            "24\n",
            "26\n",
            "28\n",
            "30\n"
          ]
        }
      ]
    },
    {
      "cell_type": "code",
      "source": [
        "num = int(input(\"Enter a number you wish to assign the tag of odd or even \"))\n",
        "\n",
        "if num%2==1:\n",
        "  print(\"You have proivided an odd number, mistress\")\n",
        "else:\n",
        "  print(\"You have provided an even number, pretty lady\")\n",
        "\n",
        "\n"
      ],
      "metadata": {
        "colab": {
          "base_uri": "https://localhost:8080/"
        },
        "id": "haf7RSbLx2hl",
        "outputId": "0554655a-9f0a-4f9f-ac2c-76d7786734d0"
      },
      "execution_count": null,
      "outputs": [
        {
          "output_type": "stream",
          "name": "stdout",
          "text": [
            "Enter a number you wish to assign the tag of odd or even 55\n",
            "You have proivided an odd number, mistress\n"
          ]
        }
      ]
    },
    {
      "cell_type": "code",
      "source": [
        "print (\"Hi Arty \\n I missed you a lot.\")"
      ],
      "metadata": {
        "colab": {
          "base_uri": "https://localhost:8080/"
        },
        "id": "Rvao5f7Uy9JX",
        "outputId": "def1f046-6fc3-40bf-b60d-a07b22b47ca9"
      },
      "execution_count": null,
      "outputs": [
        {
          "output_type": "stream",
          "name": "stdout",
          "text": [
            "Hi Arty \n",
            " I missed you a lot.\n"
          ]
        }
      ]
    },
    {
      "cell_type": "code",
      "source": [
        "print (\"Hi Arty \\nI missed you a lot. \\t Would you like to hang out with me?\")"
      ],
      "metadata": {
        "colab": {
          "base_uri": "https://localhost:8080/"
        },
        "id": "u9toHVOl1K5d",
        "outputId": "c35ec8ed-0dd2-4e9e-8e81-81794a5df92b"
      },
      "execution_count": null,
      "outputs": [
        {
          "output_type": "stream",
          "name": "stdout",
          "text": [
            "Hi Arty \n",
            "I missed you a lot. \t Would you like to hang out with me?\n"
          ]
        }
      ]
    },
    {
      "cell_type": "code",
      "source": [
        "print (\"Hi Arty\\nI missed you a lot.\\tWould you like to hang out with me?\")"
      ],
      "metadata": {
        "colab": {
          "base_uri": "https://localhost:8080/"
        },
        "id": "wZ3RR4lk1Pwj",
        "outputId": "2557ac51-5295-458e-a5b8-1e74d7b806d4"
      },
      "execution_count": null,
      "outputs": [
        {
          "output_type": "stream",
          "name": "stdout",
          "text": [
            "Hi Arty\n",
            "I missed you a lot.\tWould you like to hang out with me?\n"
          ]
        }
      ]
    },
    {
      "cell_type": "code",
      "source": [
        "print (\"Hi Arty\\nI missed you a lot.\\t Um... \\t\\tWould you like to hang out with me?\")"
      ],
      "metadata": {
        "colab": {
          "base_uri": "https://localhost:8080/"
        },
        "id": "uA6QgZpD29Af",
        "outputId": "e0074beb-18b8-40f0-f498-66f183b58289"
      },
      "execution_count": null,
      "outputs": [
        {
          "output_type": "stream",
          "name": "stdout",
          "text": [
            "Hi Arty\n",
            "I missed you a lot.\t Um... \t\tWould you like to hang out with me?\n"
          ]
        }
      ]
    },
    {
      "cell_type": "code",
      "source": [
        "print(\"Python\\n\"*4)"
      ],
      "metadata": {
        "colab": {
          "base_uri": "https://localhost:8080/"
        },
        "id": "7WXRQ7g03T46",
        "outputId": "d7ded8d6-1b3c-4e4d-b11c-d228660a76f9"
      },
      "execution_count": 40,
      "outputs": [
        {
          "output_type": "stream",
          "name": "stdout",
          "text": [
            "Python\n",
            "Python\n",
            "Python\n",
            "Python\n",
            "\n"
          ]
        }
      ]
    },
    {
      "cell_type": "code",
      "source": [
        "c = \"Get me a tandoori chicken burger, mate.\"\n",
        "print(c[1:4:2])"
      ],
      "metadata": {
        "colab": {
          "base_uri": "https://localhost:8080/"
        },
        "id": "-fYqwglo3T-f",
        "outputId": "435cddb9-7c9a-4e07-f886-84c42e1abe2d"
      },
      "execution_count": null,
      "outputs": [
        {
          "output_type": "stream",
          "name": "stdout",
          "text": [
            "e \n"
          ]
        }
      ]
    },
    {
      "cell_type": "code",
      "source": [
        "c[2:24:-2]"
      ],
      "metadata": {
        "colab": {
          "base_uri": "https://localhost:8080/",
          "height": 35
        },
        "id": "waG6RLly4ejf",
        "outputId": "7e459dd3-b104-410e-9e0d-dced8b51b680"
      },
      "execution_count": null,
      "outputs": [
        {
          "output_type": "execute_result",
          "data": {
            "text/plain": [
              "''"
            ],
            "application/vnd.google.colaboratory.intrinsic+json": {
              "type": "string"
            }
          },
          "metadata": {},
          "execution_count": 12
        }
      ]
    },
    {
      "cell_type": "code",
      "source": [
        "len(c)"
      ],
      "metadata": {
        "colab": {
          "base_uri": "https://localhost:8080/"
        },
        "id": "agq8c7WG4nwO",
        "outputId": "2ecfff2e-8311-4b93-a4f4-6289da2cde2f"
      },
      "execution_count": null,
      "outputs": [
        {
          "output_type": "execute_result",
          "data": {
            "text/plain": [
              "39"
            ]
          },
          "metadata": {},
          "execution_count": 13
        }
      ]
    },
    {
      "cell_type": "code",
      "source": [
        "c[2:24]"
      ],
      "metadata": {
        "colab": {
          "base_uri": "https://localhost:8080/",
          "height": 35
        },
        "id": "OuQ3n2AW4ssr",
        "outputId": "cf7b9da5-0eb6-4173-d774-12dc31698224"
      },
      "execution_count": null,
      "outputs": [
        {
          "output_type": "execute_result",
          "data": {
            "text/plain": [
              "'t me a tandoori chicke'"
            ],
            "application/vnd.google.colaboratory.intrinsic+json": {
              "type": "string"
            }
          },
          "metadata": {},
          "execution_count": 14
        }
      ]
    },
    {
      "cell_type": "code",
      "source": [
        "print(c[0],\"-\",c[5])"
      ],
      "metadata": {
        "colab": {
          "base_uri": "https://localhost:8080/"
        },
        "id": "bqCpLGLD4xMJ",
        "outputId": "778d5ea1-5686-4504-8f4a-fd6ec9703cf3"
      },
      "execution_count": null,
      "outputs": [
        {
          "output_type": "stream",
          "name": "stdout",
          "text": [
            "G - e\n"
          ]
        }
      ]
    },
    {
      "cell_type": "code",
      "source": [
        "c[-38]"
      ],
      "metadata": {
        "colab": {
          "base_uri": "https://localhost:8080/",
          "height": 35
        },
        "id": "IfM1jhCS46aR",
        "outputId": "bfebc053-aab2-480d-de06-062a012a84b3"
      },
      "execution_count": null,
      "outputs": [
        {
          "output_type": "execute_result",
          "data": {
            "text/plain": [
              "'e'"
            ],
            "application/vnd.google.colaboratory.intrinsic+json": {
              "type": "string"
            }
          },
          "metadata": {},
          "execution_count": 16
        }
      ]
    },
    {
      "cell_type": "code",
      "source": [
        "print(c[-1:-16:-2])"
      ],
      "metadata": {
        "colab": {
          "base_uri": "https://localhost:8080/"
        },
        "id": "LK2qWKtr5Ro9",
        "outputId": "e88d0037-c9df-41d2-f1ac-ea05d551d483"
      },
      "execution_count": null,
      "outputs": [
        {
          "output_type": "stream",
          "name": "stdout",
          "text": [
            ".tm,erbn\n"
          ]
        }
      ]
    },
    {
      "cell_type": "code",
      "source": [
        "c.lower()"
      ],
      "metadata": {
        "colab": {
          "base_uri": "https://localhost:8080/",
          "height": 35
        },
        "id": "Hg3liOcR6QPP",
        "outputId": "473633cd-67c9-4b37-9060-a95e5b2f39a8"
      },
      "execution_count": null,
      "outputs": [
        {
          "output_type": "execute_result",
          "data": {
            "text/plain": [
              "'get me a tandoori chicken burger, mate.'"
            ],
            "application/vnd.google.colaboratory.intrinsic+json": {
              "type": "string"
            }
          },
          "metadata": {},
          "execution_count": 18
        }
      ]
    },
    {
      "cell_type": "code",
      "source": [
        "c.upper()"
      ],
      "metadata": {
        "colab": {
          "base_uri": "https://localhost:8080/",
          "height": 35
        },
        "id": "VnV51gir6fP_",
        "outputId": "bab41210-0540-4b54-f055-c2062cfc7baf"
      },
      "execution_count": null,
      "outputs": [
        {
          "output_type": "execute_result",
          "data": {
            "text/plain": [
              "'GET ME A TANDOORI CHICKEN BURGER, MATE.'"
            ],
            "application/vnd.google.colaboratory.intrinsic+json": {
              "type": "string"
            }
          },
          "metadata": {},
          "execution_count": 19
        }
      ]
    },
    {
      "cell_type": "code",
      "source": [
        "c.capitalize()"
      ],
      "metadata": {
        "colab": {
          "base_uri": "https://localhost:8080/",
          "height": 35
        },
        "id": "_zHAx9I06gvm",
        "outputId": "25e50238-2476-4261-b253-1202b534ecf3"
      },
      "execution_count": null,
      "outputs": [
        {
          "output_type": "execute_result",
          "data": {
            "text/plain": [
              "'Get me a tandoori chicken burger, mate.'"
            ],
            "application/vnd.google.colaboratory.intrinsic+json": {
              "type": "string"
            }
          },
          "metadata": {},
          "execution_count": 20
        }
      ]
    },
    {
      "cell_type": "code",
      "source": [
        "type(c)"
      ],
      "metadata": {
        "colab": {
          "base_uri": "https://localhost:8080/"
        },
        "id": "9E2DjlqY6kv2",
        "outputId": "3ca86efa-2ccb-4545-c6e0-f207a0e2be9e"
      },
      "execution_count": null,
      "outputs": [
        {
          "output_type": "execute_result",
          "data": {
            "text/plain": [
              "str"
            ]
          },
          "metadata": {},
          "execution_count": 21
        }
      ]
    },
    {
      "cell_type": "code",
      "source": [
        "bool(2)"
      ],
      "metadata": {
        "colab": {
          "base_uri": "https://localhost:8080/"
        },
        "id": "dSVzZmQA6nv-",
        "outputId": "eb283a37-a8da-4325-a2f6-9a04ba4a4aa0"
      },
      "execution_count": null,
      "outputs": [
        {
          "output_type": "execute_result",
          "data": {
            "text/plain": [
              "True"
            ]
          },
          "metadata": {},
          "execution_count": 22
        }
      ]
    },
    {
      "cell_type": "code",
      "source": [
        "print(len(c[:4]))"
      ],
      "metadata": {
        "colab": {
          "base_uri": "https://localhost:8080/"
        },
        "id": "HKnPojoo6tDH",
        "outputId": "2b45cb58-a97e-4d77-aeb7-78a31a583b71"
      },
      "execution_count": null,
      "outputs": [
        {
          "output_type": "stream",
          "name": "stdout",
          "text": [
            "4\n"
          ]
        }
      ]
    },
    {
      "cell_type": "code",
      "source": [
        "print((c[:4])*2)"
      ],
      "metadata": {
        "colab": {
          "base_uri": "https://localhost:8080/"
        },
        "id": "z6GKz8UA7A5C",
        "outputId": "d03f96dc-0e82-4370-e3f2-93a9a38ebf24"
      },
      "execution_count": null,
      "outputs": [
        {
          "output_type": "stream",
          "name": "stdout",
          "text": [
            "Get Get \n"
          ]
        }
      ]
    },
    {
      "cell_type": "code",
      "source": [
        "x = int(input(\"Write down a number: \"))\n",
        "if x==2:\n",
        "  print('sure')\n",
        "elif x==4:\n",
        "  print('no')\n",
        "else:\n",
        "  print(\"I wanna be with Lithi\")\n",
        "\n",
        "\n"
      ],
      "metadata": {
        "colab": {
          "base_uri": "https://localhost:8080/"
        },
        "id": "AptIoxyd7Tan",
        "outputId": "c5e6e258-06a6-4d92-f863-007c6e7f141f"
      },
      "execution_count": null,
      "outputs": [
        {
          "output_type": "stream",
          "name": "stdout",
          "text": [
            "Write down a number: 4\n",
            "no\n"
          ]
        }
      ]
    },
    {
      "cell_type": "code",
      "source": [
        "c.count(\"t\")"
      ],
      "metadata": {
        "colab": {
          "base_uri": "https://localhost:8080/"
        },
        "id": "Zd_SX_Jq8Kbm",
        "outputId": "6605e49c-35d0-46c8-96d3-5840c8a5ad2b"
      },
      "execution_count": null,
      "outputs": [
        {
          "output_type": "execute_result",
          "data": {
            "text/plain": [
              "3"
            ]
          },
          "metadata": {},
          "execution_count": 26
        }
      ]
    },
    {
      "cell_type": "code",
      "source": [
        "c.find(\"t\")"
      ],
      "metadata": {
        "colab": {
          "base_uri": "https://localhost:8080/"
        },
        "id": "y26Taap89h1Q",
        "outputId": "af439249-03fd-4356-d2c6-01c007226675"
      },
      "execution_count": null,
      "outputs": [
        {
          "output_type": "execute_result",
          "data": {
            "text/plain": [
              "2"
            ]
          },
          "metadata": {},
          "execution_count": 27
        }
      ]
    },
    {
      "cell_type": "code",
      "source": [
        "c.replace(\"tandoori\",\"teriyaki\")"
      ],
      "metadata": {
        "colab": {
          "base_uri": "https://localhost:8080/",
          "height": 35
        },
        "id": "rIgDu6zN9nNu",
        "outputId": "1613089a-120b-4658-cb72-0d5784a74a57"
      },
      "execution_count": null,
      "outputs": [
        {
          "output_type": "execute_result",
          "data": {
            "text/plain": [
              "'Get me a teriyaki chicken burger, mate.'"
            ],
            "application/vnd.google.colaboratory.intrinsic+json": {
              "type": "string"
            }
          },
          "metadata": {},
          "execution_count": 28
        }
      ]
    },
    {
      "cell_type": "code",
      "source": [
        "c"
      ],
      "metadata": {
        "colab": {
          "base_uri": "https://localhost:8080/",
          "height": 35
        },
        "id": "CQO72SN39t_v",
        "outputId": "78921fc7-7f99-47d4-9dfc-d427fcc75a51"
      },
      "execution_count": null,
      "outputs": [
        {
          "output_type": "execute_result",
          "data": {
            "text/plain": [
              "'Get me a tandoori chicken burger, mate.'"
            ],
            "application/vnd.google.colaboratory.intrinsic+json": {
              "type": "string"
            }
          },
          "metadata": {},
          "execution_count": 29
        }
      ]
    },
    {
      "cell_type": "code",
      "source": [
        "e = a.copy()"
      ],
      "metadata": {
        "id": "6FfrJdGV9wVJ"
      },
      "execution_count": null,
      "outputs": []
    },
    {
      "cell_type": "code",
      "source": [
        "e"
      ],
      "metadata": {
        "colab": {
          "base_uri": "https://localhost:8080/"
        },
        "id": "Etxk00Gn92bJ",
        "outputId": "57daafa7-4dc0-4434-8f09-4c8d9743c2ba"
      },
      "execution_count": null,
      "outputs": [
        {
          "output_type": "execute_result",
          "data": {
            "text/plain": [
              "['cat', 'dog', 'cow']"
            ]
          },
          "metadata": {},
          "execution_count": 33
        }
      ]
    },
    {
      "cell_type": "code",
      "source": [
        "for i in a:\n",
        "  for j in a:\n",
        "    print(i,j)"
      ],
      "metadata": {
        "colab": {
          "base_uri": "https://localhost:8080/"
        },
        "id": "6k0JjBfT9-qR",
        "outputId": "91736848-006a-40a2-80d6-45b5fb23f95f"
      },
      "execution_count": null,
      "outputs": [
        {
          "output_type": "stream",
          "name": "stdout",
          "text": [
            "cat cat\n",
            "cat dog\n",
            "cat cow\n",
            "dog cat\n",
            "dog dog\n",
            "dog cow\n",
            "cow cat\n",
            "cow dog\n",
            "cow cow\n"
          ]
        }
      ]
    },
    {
      "cell_type": "code",
      "source": [
        "#Table of a given value\n",
        "t = 1\n",
        "n = int(input('Enter the number whose multiplication table you seek: '))\n",
        "for t in range(1,10*n+1):\n",
        "  print(n,\"X\",t,\"=\",n*t)"
      ],
      "metadata": {
        "colab": {
          "base_uri": "https://localhost:8080/"
        },
        "id": "jbOCK0Xm-GX4",
        "outputId": "5bc206e9-b032-4f99-81ed-930c6e038ff9"
      },
      "execution_count": null,
      "outputs": [
        {
          "output_type": "stream",
          "name": "stdout",
          "text": [
            "Enter the number whose multiplication table you seek: 2\n",
            "2 X 1 = 2\n",
            "2 X 2 = 4\n",
            "2 X 3 = 6\n",
            "2 X 4 = 8\n",
            "2 X 5 = 10\n",
            "2 X 6 = 12\n",
            "2 X 7 = 14\n",
            "2 X 8 = 16\n",
            "2 X 9 = 18\n",
            "2 X 10 = 20\n",
            "2 X 11 = 22\n",
            "2 X 12 = 24\n",
            "2 X 13 = 26\n",
            "2 X 14 = 28\n",
            "2 X 15 = 30\n",
            "2 X 16 = 32\n",
            "2 X 17 = 34\n",
            "2 X 18 = 36\n",
            "2 X 19 = 38\n",
            "2 X 20 = 40\n"
          ]
        }
      ]
    },
    {
      "cell_type": "code",
      "source": [
        "def largest(arr, n):\n",
        "\n",
        "    # Initialize maximum element\n",
        "    mx = arr[0]\n",
        "\n",
        "    # Traverse array elements from second\n",
        "    # and compare every element with\n",
        "    # current max\n",
        "    for i in range(1, n):\n",
        "        if arr[i] > mx:\n",
        "            mx = arr[i]\n",
        "\n",
        "    return mx\n",
        "arr = [10, 324, 45, 90, 9808]\n",
        "n = len(arr)\n",
        "\n",
        "    # Calculating length of an array\n",
        "Ans = largest(arr, n)\n",
        "\n",
        "    # display max\n",
        "print(Ans)\n",
        "\n"
      ],
      "metadata": {
        "id": "uQLw-tLXABCN",
        "colab": {
          "base_uri": "https://localhost:8080/"
        },
        "outputId": "00af7ef8-6fd4-4e92-cb7a-dbdb478fc1d1"
      },
      "execution_count": null,
      "outputs": [
        {
          "output_type": "stream",
          "name": "stdout",
          "text": [
            "9808\n"
          ]
        }
      ]
    },
    {
      "cell_type": "code",
      "source": [
        "#Finding maximum element of array\n",
        "n=int(input(\"Length of array: \"))\n",
        "temp=0\n",
        "a=list(map(int,input(\"Type the elements of array with single space in between each element : \").split()))\n",
        "for i in range(n):\n",
        "    for j in range(i+1,n):\n",
        "        if a[i]>a[j]:\n",
        "            temp=a[i]\n",
        "            a[i]=a[j]\n",
        "            a[j]=temp\n",
        "print(a[j])"
      ],
      "metadata": {
        "colab": {
          "base_uri": "https://localhost:8080/"
        },
        "id": "7xc_bEe1Avo4",
        "outputId": "16ee7297-57b1-40b9-d3d0-ee4f728ee005"
      },
      "execution_count": null,
      "outputs": [
        {
          "output_type": "stream",
          "name": "stdout",
          "text": [
            "Length of array: 3\n",
            "Type the elements of array with single space in between each element : 2 5 6\n",
            "6\n"
          ]
        }
      ]
    },
    {
      "cell_type": "code",
      "source": [
        "#Concatenation of array\n",
        "N = int(input(\"Enter length of array: \"))\n",
        "array = list(map(int, input(\"Enter your array elements separated by single space: \").split()))\n",
        "concat = array+array\n",
        "print(*concat)\n"
      ],
      "metadata": {
        "colab": {
          "base_uri": "https://localhost:8080/"
        },
        "id": "vjO1UqRqDbBQ",
        "outputId": "91a18c03-c835-4840-9d9d-a16aa6b781eb"
      },
      "execution_count": null,
      "outputs": [
        {
          "output_type": "stream",
          "name": "stdout",
          "text": [
            "Enter length of array: 4\n",
            "Enter your array elements separated by single space: 2 56 66 7\n",
            "2 56 66 7 2 56 66 7\n"
          ]
        }
      ]
    },
    {
      "cell_type": "code",
      "source": [
        "#Print all the unique elements in list\n",
        "N = int(input())\n",
        "arr = list(map(int, input().split()))\n",
        "\n",
        "# Create an empty list to store unique elements in order\n",
        "unique_list = []\n",
        "\n",
        "# Iterate through the array\n",
        "for num in arr:\n",
        "    # Check if the element is already in the list\n",
        "    if num not in unique_list:\n",
        "        # If not, add it to the list\n",
        "        unique_list.append(num)\n",
        "\n",
        "# Print the unique elements in order\n",
        "print(*unique_list)"
      ],
      "metadata": {
        "colab": {
          "base_uri": "https://localhost:8080/"
        },
        "id": "NzKGzf76DbGd",
        "outputId": "37c2c01e-5787-4d76-9539-59d9442f73a4"
      },
      "execution_count": null,
      "outputs": [
        {
          "output_type": "stream",
          "name": "stdout",
          "text": [
            "4\n",
            "2 3 3 5\n",
            "2 3 5\n"
          ]
        }
      ]
    },
    {
      "cell_type": "code",
      "source": [
        "#Print elements that appear only once in the list (unique array problem of second kind) as well as the duplicate elements only\n",
        "N = int(input())\n",
        "arr = list(map(int, input().split()))\n",
        "\n",
        "# Create an empty list to store unique elements in the order they appear\n",
        "unique_list = []\n",
        "\n",
        "# Create a set to store elements that occur more than once\n",
        "duplicates = set()\n",
        "\n",
        "# Iterate through the array\n",
        "for num in arr:\n",
        "    if num in duplicates:\n",
        "        continue\n",
        "    if num in unique_list:\n",
        "        unique_list.remove(num)\n",
        "        duplicates.add(num)\n",
        "    else:\n",
        "        unique_list.append(num)\n",
        "\n",
        "# Print the unique elements in the order they appear\n",
        "print(*unique_list)\n",
        "print(*duplicates)"
      ],
      "metadata": {
        "colab": {
          "base_uri": "https://localhost:8080/"
        },
        "id": "wFSLqmt-Icm2",
        "outputId": "503fec00-96ab-4262-f025-b7ac592af318"
      },
      "execution_count": null,
      "outputs": [
        {
          "output_type": "stream",
          "name": "stdout",
          "text": [
            "5\n",
            "7 7 89 2 89\n",
            "2\n",
            "89 7\n"
          ]
        }
      ]
    },
    {
      "cell_type": "code",
      "source": [
        "#reversing\n",
        "N = int(input())\n",
        "arr = list(map(int,input().split()))\n",
        "\n",
        "ar = arr[::-1]\n",
        "print(*ar)"
      ],
      "metadata": {
        "colab": {
          "base_uri": "https://localhost:8080/"
        },
        "id": "XpJn8oKKKdRb",
        "outputId": "bd188a84-d422-4839-b830-5295c686448e"
      },
      "execution_count": null,
      "outputs": [
        {
          "output_type": "stream",
          "name": "stdout",
          "text": [
            "4\n",
            "2 3 4 5\n",
            "5 4 3 2\n"
          ]
        }
      ]
    },
    {
      "cell_type": "code",
      "source": [
        "#sum of odd numbers\n",
        "N = int(input())\n",
        "arr = list(map(int,input().split()))\n",
        "s = 0\n",
        "for i in arr:\n",
        "    if i % 2 != 0:\n",
        "        s = s+i\n",
        "print(s)\n"
      ],
      "metadata": {
        "colab": {
          "base_uri": "https://localhost:8080/"
        },
        "id": "aYCSGlw9MbOM",
        "outputId": "3253aaff-0b7a-4991-c6fa-d37a15a4213a"
      },
      "execution_count": null,
      "outputs": [
        {
          "output_type": "stream",
          "name": "stdout",
          "text": [
            "4\n",
            "2 3 7 8\n",
            "10\n"
          ]
        }
      ]
    },
    {
      "cell_type": "code",
      "source": [
        "N = int(input())\n",
        "arr = list(map(int,input().split()))\n",
        "count = 0\n",
        "i_count = 0\n",
        "for i in arr:\n",
        "    if i == 1:\n",
        "        count = count+1\n",
        "        if count>i_count:\n",
        "            i_count = count\n",
        "    else:\n",
        "        count = 0\n",
        "print(i_count)"
      ],
      "metadata": {
        "colab": {
          "base_uri": "https://localhost:8080/"
        },
        "id": "6l3bProjatbm",
        "outputId": "90babe33-6be6-49d2-8423-6e27077b6f7e"
      },
      "execution_count": null,
      "outputs": [
        {
          "output_type": "stream",
          "name": "stdout",
          "text": [
            "5\n",
            "1 0 1 1 0 \n",
            "2\n"
          ]
        }
      ]
    },
    {
      "cell_type": "code",
      "source": [
        "import math\n",
        "import os\n",
        "import random\n",
        "import re\n",
        "import sys\n",
        "\n",
        "#\n",
        "# Complete the 'diagonalDifference' function below.\n",
        "#\n",
        "# The function is expected to return an INTEGER.\n",
        "# The function accepts 2D_INTEGER_ARRAY arr as parameter.\n",
        "#\n",
        "\n",
        "def diagonalDifference(arr):\n",
        "    p = 0\n",
        "    s = 0\n",
        "    for i in range(0,len(arr)):\n",
        "        p = p+arr[i][i]\n",
        "    for j in range (0,len(arr)):\n",
        "        s = s+arr[j][len(arr)-1-j]\n",
        "    return abs(p-s)\n",
        "\n",
        "\n",
        "n = int(input().strip())\n",
        "\n",
        "arr = []\n",
        "\n",
        "for _ in range(n):\n",
        "    arr.append(list(map(int, input().rstrip().split())))\n",
        "\n",
        "result = diagonalDifference(arr)\n",
        "print(result)\n"
      ],
      "metadata": {
        "id": "CIK0_4pwbjhS",
        "colab": {
          "base_uri": "https://localhost:8080/"
        },
        "outputId": "f8b18e16-65ce-4a8e-d53d-149065fea657"
      },
      "execution_count": null,
      "outputs": [
        {
          "output_type": "stream",
          "name": "stdout",
          "text": [
            "4\n",
            "1 2 3 4\n",
            "1 2 3 4\n",
            "2 3 4 5\n",
            "4 5 6 8\n",
            "1\n"
          ]
        }
      ]
    },
    {
      "cell_type": "code",
      "source": [
        "n = int(input().strip())\n",
        "\n",
        "arr = []\n",
        "\n",
        "for _ in range(n):\n",
        "    arr.append(list(map(int, input().rstrip().split())))\n",
        "p = 0\n",
        "s = 0\n",
        "for i in range(0,len(arr)):\n",
        "    p = p+arr[i][i]\n",
        "for j in range (0,len(arr)):\n",
        "    s = s+arr[j][len(arr)-1-j]\n",
        "print(s)\n",
        "arr[j][len(arr)-1-j]"
      ],
      "metadata": {
        "id": "3sKq0lxjbjuL",
        "colab": {
          "base_uri": "https://localhost:8080/"
        },
        "outputId": "2810d7ff-b257-49f4-8838-8a435c2faae6"
      },
      "execution_count": null,
      "outputs": [
        {
          "output_type": "stream",
          "name": "stdout",
          "text": [
            "2\n",
            "1 2\n",
            "1 2\n",
            "3\n"
          ]
        },
        {
          "output_type": "execute_result",
          "data": {
            "text/plain": [
              "1"
            ]
          },
          "metadata": {},
          "execution_count": 11
        }
      ]
    },
    {
      "cell_type": "code",
      "source": [
        "#Read the input\n",
        "N, M = map(int, input(\"Enter number of rows and columns of the matrices \").split())\n",
        "\n",
        "# Read matrix A\n",
        "matrix_A = [list(map(int, input().split())) for _ in range(N)]\n",
        "\n",
        "# Read matrix B\n",
        "matrix_B = [list(map(int, input().split())) for _ in range(N)]\n",
        "\n",
        "# Calculate the sum of the matrices\n",
        "result = [[matrix_A[i][j] + matrix_B[i][j] for j in range(M)] for i in range(N)]\n",
        "\n",
        "# Print the result\n",
        "for row in result:\n",
        "    print(\"Here's the sums of the matrices row by row\",*row)"
      ],
      "metadata": {
        "colab": {
          "base_uri": "https://localhost:8080/"
        },
        "id": "0fgwzit4izo6",
        "outputId": "786e1c91-73a6-4c1a-9789-02d164733c50"
      },
      "execution_count": null,
      "outputs": [
        {
          "output_type": "stream",
          "name": "stdout",
          "text": [
            "Enter number of rows and columns of the matrices 2 2\n",
            "2 3\n",
            "2 4\n",
            "2 34\n",
            "2 4\n",
            "Here's the sums of the matrices row by row 4 37\n",
            "Here's the sums of the matrices row by row 4 8\n"
          ]
        }
      ]
    },
    {
      "cell_type": "code",
      "source": [
        "r  =int(input(\"enter no. of rows\"))\n",
        "c  =int(input(\"enter no. of columns\"))\n",
        "\n",
        "m = []\n",
        "for i in range(r):\n",
        "  l=[]\n",
        "  for j in range(c):\n",
        "    v = int(input())\n",
        "    l.append(v)\n",
        "  m.append(l)\n",
        "print(m)\n",
        "print(m[1][1])\n"
      ],
      "metadata": {
        "colab": {
          "base_uri": "https://localhost:8080/"
        },
        "id": "WJwsNjv3Y5mu",
        "outputId": "5a391ced-aea9-44f0-c98a-5a54a8f68d56"
      },
      "execution_count": null,
      "outputs": [
        {
          "output_type": "stream",
          "name": "stdout",
          "text": [
            "enter no. of rows2\n",
            "enter no. of columns2\n",
            "1\n",
            "2\n",
            "3\n",
            "4\n",
            "[[1, 2], [3, 4]]\n",
            "4\n"
          ]
        }
      ]
    },
    {
      "cell_type": "code",
      "source": [
        "# Get input for matrix size\n",
        "N, M = map(int, input().split())\n",
        "\n",
        "# Initialize a variable to store the sum of each row\n",
        "row_sums = []\n",
        "\n",
        "# Iterate over each row\n",
        "for i in range(N):\n",
        "    # Get the row elements as input and calculate the sum\n",
        "    row = list(map(int, input().split()))\n",
        "    row_sum = sum(row)\n",
        "\n",
        "    # Append the row sum to the list\n",
        "    row_sums.append(row_sum)\n",
        "\n",
        "# Print the row sums, separated by a newline\n",
        "for row_sum in row_sums:\n",
        "    print(row_sum)"
      ],
      "metadata": {
        "id": "saNdT3uUZ8OW",
        "colab": {
          "base_uri": "https://localhost:8080/"
        },
        "outputId": "a0c8243d-c899-4a90-f258-3d954af4c53a"
      },
      "execution_count": 1,
      "outputs": [
        {
          "output_type": "stream",
          "name": "stdout",
          "text": [
            "2 3\n",
            "5 6 7\n",
            "7 8 9\n",
            "18\n",
            "24\n"
          ]
        }
      ]
    },
    {
      "cell_type": "code",
      "source": [
        "# Get input for matrix size\n",
        "N, M = map(int, input().split())\n",
        "\n",
        "# Initialize a list to store the column sums\n",
        "col_sums = [0] * M\n",
        "\n",
        "# Iterate over each row\n",
        "for i in range(N):\n",
        "    # Get the row elements as input\n",
        "    row = list(map(int, input().split()))\n",
        "\n",
        "    # Calculate the column sums\n",
        "    for j in range(M):\n",
        "        col_sums[j] += row[j]\n",
        "\n",
        "# Print the column sums, separated by a newline\n",
        "for col_sum in col_sums:\n",
        "    print(col_sum)"
      ],
      "metadata": {
        "colab": {
          "base_uri": "https://localhost:8080/"
        },
        "id": "4LMPcaNmmuMr",
        "outputId": "6e86c868-43ec-44c1-d69f-fbd3d23f17a7"
      },
      "execution_count": 42,
      "outputs": [
        {
          "output_type": "stream",
          "name": "stdout",
          "text": [
            "2 2\n",
            "4 5\n",
            "7 9\n",
            "11\n",
            "14\n"
          ]
        }
      ]
    },
    {
      "cell_type": "code",
      "source": [
        "#Sum of digits\n",
        "n = int(input(\"Enter a number: \"))\n",
        "sum_of_digits = sum(int(d) for d in str(n))\n",
        "print(f\"Sum of all digits of the number you entered ({n}) is {sum_of_digits}.\")"
      ],
      "metadata": {
        "colab": {
          "base_uri": "https://localhost:8080/"
        },
        "id": "CJDr_K9_rvXA",
        "outputId": "a6a58393-0715-4985-e952-a12b652ee91b"
      },
      "execution_count": 48,
      "outputs": [
        {
          "output_type": "stream",
          "name": "stdout",
          "text": [
            "Enter a number: 3742189310\n",
            "Sum of all digits of the number you entered (3742189310) is 38.\n"
          ]
        }
      ]
    },
    {
      "cell_type": "code",
      "source": [
        "#Diagonal interchange\n",
        "N = int(input())\n",
        "# Initialize a 2D list to store the matrix elements\n",
        "matrix = []\n",
        "for _ in range(N):\n",
        "    row = list(map(int, input().split()))\n",
        "    matrix.append(row)\n",
        "\n",
        "# Interchange the diagonal elements\n",
        "for i in range(N):\n",
        "    temp = matrix[i][i]\n",
        "    matrix[i][i] = matrix[i][N-i-1]\n",
        "    matrix[i][N-i-1] = temp\n",
        "\n",
        "# Print the resultant matrix\n",
        "for row in matrix:\n",
        "    print(\" \".join(map(str, row)))"
      ],
      "metadata": {
        "colab": {
          "base_uri": "https://localhost:8080/"
        },
        "id": "2qRomx9DuixJ",
        "outputId": "fa3c61b3-9961-47d2-98d8-92e3100fb15e"
      },
      "execution_count": 69,
      "outputs": [
        {
          "output_type": "stream",
          "name": "stdout",
          "text": [
            "2\n",
            "3 4\n",
            "5 6\n",
            "4 3\n",
            "6 5\n"
          ]
        }
      ]
    },
    {
      "cell_type": "code",
      "source": [
        "#Interchange diagonal elements of a matrix\n",
        "# Get input for matrix size\n",
        "N = int(input())\n",
        "\n",
        "# Initialize a 2D list to store the matrix elements\n",
        "matrix = [list(map(int, input().split())) for _ in range(N)]\n",
        "\n",
        "# Interchange the diagonal elements\n",
        "for i in range(N):\n",
        "    matrix[i][i], matrix[i][N-i-1] = matrix[i][N-i-1], matrix[i][i]\n",
        "\n",
        "# Print the resultant matrix\n",
        "for row in matrix:\n",
        "    print(*row)\n"
      ],
      "metadata": {
        "colab": {
          "base_uri": "https://localhost:8080/"
        },
        "id": "0sGgsa9Xu0T7",
        "outputId": "4734db79-018d-40df-8660-cd934cbffe9a"
      },
      "execution_count": 50,
      "outputs": [
        {
          "output_type": "stream",
          "name": "stdout",
          "text": [
            "2\n",
            "4 5\n",
            "6 7\n",
            "5 4\n",
            "7 6\n"
          ]
        }
      ]
    },
    {
      "cell_type": "code",
      "source": [
        "#Transpose of a matrix\n",
        "N, M = map(int, input().split())\n",
        "matrix = []\n",
        "for _ in range(N):\n",
        "    row = list(map(int, input().split()))\n",
        "    matrix.append(row)\n",
        "\n",
        "# Print the transpose of the matrix\n",
        "for j in range(M):\n",
        "    for i in range(N):\n",
        "        print(matrix[i][j], end=\" \")\n",
        "    print()"
      ],
      "metadata": {
        "colab": {
          "base_uri": "https://localhost:8080/"
        },
        "id": "K_u7XOEgukIO",
        "outputId": "dc1a7dcf-fa40-4018-d393-9c4380d0d7ba"
      },
      "execution_count": 51,
      "outputs": [
        {
          "output_type": "stream",
          "name": "stdout",
          "text": [
            "2 2\n",
            "3 4\n",
            "5 6\n",
            "3 5 \n",
            "4 6 \n"
          ]
        }
      ]
    },
    {
      "cell_type": "code",
      "source": [
        "#Prime or not\n",
        "\n",
        "# Get input for the number\n",
        "N = int(input())\n",
        "\n",
        "# Check if the number is prime\n",
        "is_prime = True\n",
        "if N <= 1:\n",
        "    is_prime = False\n",
        "else:\n",
        "    for i in range(2, int(N**0.5) + 1):\n",
        "        if N % i == 0:\n",
        "            is_prime = False\n",
        "            break\n",
        "\n",
        "# Print the result\n",
        "if is_prime:\n",
        "    print(\"Yes\")\n",
        "else:\n",
        "    print(\"No\")"
      ],
      "metadata": {
        "colab": {
          "base_uri": "https://localhost:8080/"
        },
        "id": "oG_54uOjw92s",
        "outputId": "f0c7f81b-d259-4354-ffbf-8c26fb553aa6"
      },
      "execution_count": 52,
      "outputs": [
        {
          "output_type": "stream",
          "name": "stdout",
          "text": [
            "23\n",
            "Yes\n"
          ]
        }
      ]
    },
    {
      "cell_type": "code",
      "source": [
        "import math\n",
        "\n",
        "# Get input for the number\n",
        "N = int(input())\n",
        "\n",
        "# Function to check if a number is prime\n",
        "def is_prime(n):\n",
        "    if n <= 1:\n",
        "        return False\n",
        "    if n == 2:\n",
        "        return True\n",
        "    if n % 2 == 0:\n",
        "        return False\n",
        "    for i in range(3, int(math.sqrt(n)) + 1, 2):\n",
        "        if n % i == 0:\n",
        "            return False\n",
        "    return True\n",
        "\n",
        "# Check if the number is prime\n",
        "if is_prime(N):\n",
        "    print(\"Yes\")\n",
        "else:\n",
        "    print(\"No\")"
      ],
      "metadata": {
        "colab": {
          "base_uri": "https://localhost:8080/"
        },
        "id": "w5gf_O5_yOaG",
        "outputId": "ad2b2d7a-1a24-4139-ee33-7d95bf3e2599"
      },
      "execution_count": 53,
      "outputs": [
        {
          "output_type": "stream",
          "name": "stdout",
          "text": [
            "33\n",
            "No\n"
          ]
        }
      ]
    },
    {
      "cell_type": "code",
      "source": [
        "#reverse a number\n",
        "\n",
        "N = int(input())\n",
        "rev_no = 0\n",
        "while(N>0):\n",
        "    remainder = N%10\n",
        "    rev_no = (rev_no  * 10) + remainder\n",
        "    N = N//10\n",
        "print(rev_no)"
      ],
      "metadata": {
        "colab": {
          "base_uri": "https://localhost:8080/"
        },
        "id": "6u5RZ_b2zdLi",
        "outputId": "e4dabdfe-d9df-47f9-e7dd-fc48cf9e26bb"
      },
      "execution_count": 60,
      "outputs": [
        {
          "output_type": "stream",
          "name": "stdout",
          "text": [
            "20\n",
            "2\n"
          ]
        }
      ]
    },
    {
      "cell_type": "code",
      "source": [
        "N =  input()\n",
        "print(str(N)[::-1])"
      ],
      "metadata": {
        "colab": {
          "base_uri": "https://localhost:8080/"
        },
        "id": "chmIcU7G0TKb",
        "outputId": "b9aafe14-42eb-4190-ba73-2f6140f313a7"
      },
      "execution_count": 62,
      "outputs": [
        {
          "output_type": "stream",
          "name": "stdout",
          "text": [
            "-ab230\n",
            "032ba-\n"
          ]
        }
      ]
    },
    {
      "cell_type": "code",
      "source": [
        "#natural numbers sum\n",
        "# Sum of natural numbers up to num\n",
        "\n",
        "num = int(input())\n",
        "\n",
        "if num < 0:\n",
        "   print(\"Enter a positive number\")\n",
        "else:\n",
        "   sum = 0\n",
        "   # use while loop to iterate until zero\n",
        "   while(num > 0):\n",
        "       sum += num\n",
        "       num -= 1\n",
        "   print(\"The sum is\", sum)"
      ],
      "metadata": {
        "colab": {
          "base_uri": "https://localhost:8080/"
        },
        "id": "dbLi1l586HZR",
        "outputId": "a2a26331-92b4-47a4-d5bb-00751f9c2f24"
      },
      "execution_count": 63,
      "outputs": [
        {
          "output_type": "stream",
          "name": "stdout",
          "text": [
            "45\n",
            "The sum is 1035\n"
          ]
        }
      ]
    },
    {
      "cell_type": "code",
      "source": [
        "#sum of squares of first n natural numbers\n",
        "sm = 0\n",
        "n = int(input())\n",
        "for i in range(1, n+1):\n",
        "    sm = sm + (i * i)\n",
        "\n",
        "print(sm)"
      ],
      "metadata": {
        "colab": {
          "base_uri": "https://localhost:8080/"
        },
        "id": "91YsgwQXvibz",
        "outputId": "3f5dc791-c61c-4990-c91c-d529ac4e74de"
      },
      "execution_count": 67,
      "outputs": [
        {
          "output_type": "stream",
          "name": "stdout",
          "text": [
            "45\n",
            "31395\n"
          ]
        }
      ]
    },
    {
      "cell_type": "code",
      "source": [
        "#Factorial problem\n",
        "num = int(input(\"Enter a number: \"))\n",
        "\n",
        "factorial = 1\n",
        "\n",
        "# check if the number is negative, positive or zero\n",
        "if num < 0:\n",
        "   print(\"Sorry, factorial does not exist for negative numbers\")\n",
        "elif num == 0:\n",
        "   print(\"The factorial of 0 is 1\")\n",
        "else:\n",
        "   for i in range(1,num + 1):\n",
        "       factorial = factorial*i\n",
        "   print(\"The factorial of\",num,\"is\",factorial)"
      ],
      "metadata": {
        "colab": {
          "base_uri": "https://localhost:8080/"
        },
        "id": "SPsAL7S_vj5x",
        "outputId": "979bcb00-dfda-488d-a8b4-04d9cb5a1bd0"
      },
      "execution_count": 68,
      "outputs": [
        {
          "output_type": "stream",
          "name": "stdout",
          "text": [
            "Enter a number: 5\n",
            "The factorial of 5 is 120\n"
          ]
        }
      ]
    }
  ]
}